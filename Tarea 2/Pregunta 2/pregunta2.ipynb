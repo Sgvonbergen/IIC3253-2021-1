{
 "cells": [
  {
   "cell_type": "code",
   "execution_count": 1,
   "id": "d0bf7117",
   "metadata": {},
   "outputs": [],
   "source": [
    "import random\n",
    "import sys\n",
    "import os"
   ]
  },
  {
   "cell_type": "markdown",
   "id": "a16174a2",
   "metadata": {},
   "source": [
    "### exp_mod es una funcion de exponenciacion modular rapida.\n",
    "exp_mod(a: int, b: int, n: int) -> int\n",
    "\n",
    "En esta implementacion, transformamos nuestro\n",
    "numero a su representacion binaria.\n",
    "\n",
    "Se traversa el numero binario de izquierda a derecha\n",
    "\n",
    "Para este tipo de exponenciacion dividimos el exponente\n",
    "en 2 partes, por ejemplo\n",
    "b = 3 (0b10)\n",
    "b_1 = 2, b_2 = 1\n",
    "Cuando dividimos un numero impar nos quedan 2 numeros distintos.\n",
    "este _extra_ significa que tendremos que multiplicar la base 1 vez mas.\n",
    "este _extra_ esta representado cuando hay un 1 en la representacion binaria.\n",
    "\n",
    "En particular siempre se parte con un _extra_ a menos que el exponente sea 0."
   ]
  },
  {
   "cell_type": "code",
   "execution_count": 3,
   "id": "3c174218",
   "metadata": {},
   "outputs": [],
   "source": [
    "def exp_mod(a, b, n):\n",
    "    if b == 0:\n",
    "        return 1\n",
    "    binary_b = bin(b)[2:]\n",
    "    r = 1\n",
    "    for i in range(len(binary_b)):\n",
    "        r = (r * r) % n\n",
    "        if binary_b[i] == \"1\":\n",
    "            r = (r * a) % n\n",
    "    return r"
   ]
  },
  {
   "cell_type": "markdown",
   "id": "9644b6f4",
   "metadata": {},
   "source": [
    "### miller_rabin es una funcion que comprueba si un numero es primo o no.\n",
    "\n",
    "miller_rabin(n: int, k: int) -> bool\n",
    "\n",
    "La funcion descompone el numero (n - 1) de la forma $2^t * s$. Luego elige un testigo a < n - 1 de manera aleatoria. Este testigo prueba si n era un numero primo. La probabilidad de error en este test es de 1/4.\n",
    "\n",
    "Para lograr una probabilidad de error menor a $2^{-k}$ es necesario hacer tener k/2 + 1 testigos (repetir el test esa cantidad de veces)."
   ]
  },
  {
   "cell_type": "code",
   "execution_count": 5,
   "id": "e3e2a11b",
   "metadata": {},
   "outputs": [],
   "source": [
    "def miller_rabin(n, k):\n",
    "    s = n - 1\n",
    "    t = 0\n",
    "    while s % 2 == 0:\n",
    "        s = s // 2\n",
    "        t += 1\n",
    "    for _ in range((k//2) + 1):\n",
    "        a = random.randrange(2, n - 1)\n",
    "        v = exp_mod(a, s, n)\n",
    "        if v != 1:\n",
    "            i = 0\n",
    "            while v != (n - 1):\n",
    "                if i >= t - 1:\n",
    "                    return False\n",
    "                else:\n",
    "                    i = i + 1\n",
    "                    v = exp_mod(v, 2, n)\n",
    "    return True"
   ]
  },
  {
   "cell_type": "markdown",
   "id": "35ce9f61",
   "metadata": {},
   "source": [
    "### generar_primo es una funcion que genera un primo aleatorio\n",
    "\n",
    "generar_primo(L: int) -> int\n",
    "\n",
    "Para generar el primo aprovechamos el test de primalidad definido en miller_rabin. elegimos un numero aleatorio cercano a largo L y probamos si es un primo (con probabilidad de $2^{-100}$). Repetimos este proceso hasta que encontremos un primo.\n"
   ]
  },
  {
   "cell_type": "code",
   "execution_count": 7,
   "id": "0eb8b627",
   "metadata": {},
   "outputs": [],
   "source": [
    "def generar_primo(L):\n",
    "    while True:\n",
    "        possible_p = random.randint(10**(L-1), 10**L)\n",
    "        if miller_rabin(possible_p, 100):\n",
    "            return possible_p"
   ]
  },
  {
   "cell_type": "markdown",
   "id": "c296cdd8",
   "metadata": {},
   "source": [
    "### alg_ext_euclides es una función que busca el máximo común divisor entre 2 números a y b\n",
    "\n",
    "alg_ext_euclides(a: int, b: int) -> (int, int, int)\n",
    "\n",
    "Se implementa el conocido algoritmo de euclides. En particular esta vez entregamos los numeros s y t que tienen propiedades que seran de útilidad para otras funciones. s y t cumplen la propiedad de $gcd = s*a + n*t$ mod n"
   ]
  },
  {
   "cell_type": "code",
   "execution_count": 9,
   "id": "74eecaf3",
   "metadata": {},
   "outputs": [],
   "source": [
    "def alg_ext_euclides(a, b):\n",
    "    if a == 0:\n",
    "        return b, 0, 1\n",
    "\n",
    "    new_a = b % a\n",
    "    new_b = a\n",
    "\n",
    "    gcd, x, y = alg_ext_euclides(new_a, new_b)\n",
    "    s = y - (b // a) * x\n",
    "    t = x\n",
    "\n",
    "    return gcd, s, t"
   ]
  },
  {
   "cell_type": "markdown",
   "id": "9b5a1bca",
   "metadata": {},
   "source": [
    "### inverso es una funcion que retorna el inverso modular de un numero a\n",
    "inverso(a: int, n: int) -> int\n",
    "\n",
    "Aprovechamos la propiedad que tienen el s y t que retorna alg_ext_euclides para encontrar el inverso. si el numero a y el modulo n son comprimos entonces existe un inverso. Ese inverso es simplement el número s % n.\n",
    "\n",
    "como MCD = s*a + n*t\n",
    "\n",
    "podemos extraer el n*t ya que en modulo n, n*t siempre va a ser 0.\n",
    "\n",
    "MCD = s*a\n",
    "\n",
    "como MCD es 1:\n",
    "\n",
    "1 = s*a mod n"
   ]
  },
  {
   "cell_type": "code",
   "execution_count": null,
   "id": "71a2d2fb",
   "metadata": {},
   "outputs": [],
   "source": [
    "def inverso(a, n):\n",
    "    g, s, _ = alg_ext_euclides(a, n)\n",
    "    if g != 1:\n",
    "        return -1\n",
    "    return s % n"
   ]
  },
  {
   "cell_type": "markdown",
   "id": "2f625382",
   "metadata": {},
   "source": [
    "### generar_clave es una funcion que genera una clave privada y una clave pública y las escribe en 2 archivos txt.\n",
    "\n",
    "generar_clave(L:int) -> None\n",
    "\n",
    "Utilizamos el protocolo RSA: buscamos 2 primos p y q. elegimos un e que sea coprimo con phi (7 es siempre coprimo porque es un primo). Definimos la clave publica como (e, N) y la privada como (d, N) donde d es el inverso de e en modulo phi."
   ]
  },
  {
   "cell_type": "code",
   "execution_count": 11,
   "id": "dafcfe99",
   "metadata": {},
   "outputs": [],
   "source": [
    "def generar_clave(L):\n",
    "    p = generar_primo(L//2)\n",
    "    q = generar_primo(L//2)\n",
    "    while alg_ext_euclides(p, q)[0] != 1:\n",
    "        q = generar_primo(L//2)\n",
    "    N = p*q\n",
    "    phi = (p - 1)*(q - 1)\n",
    "    e = 7\n",
    "    d = inverso(e, phi)\n",
    "    public_key = open(os.path.join(sys.path[0], \"./public_key.txt\"), \"w\")\n",
    "    private_key = open(os.path.join(sys.path[0], \"./private_key.txt\"), \"w\")\n",
    "    public_key.write(str(e) + \"\\n\" + str(N))\n",
    "    private_key.write(str(d) + \"\\n\" + str(N))"
   ]
  },
  {
   "cell_type": "markdown",
   "id": "0f4a059e",
   "metadata": {},
   "source": [
    "### Las funciones enc y dec encriptan o decriptan un mensaje con las llaves definidas\n",
    "\n",
    "enc(m: int) -> int\n",
    "\n",
    "dec(c: int) -> int\n",
    "\n",
    "enc toma el mensaje m y hace exponenciacion modular con la clave publica e.\n",
    "\n",
    "dec toma un texto cifrado c y hace la exponenciacion modular con su clave secreta d\n",
    "\n",
    "Ya que c = $m^e$ mod N y d es inverso de e, podemos hacer m = $m^{ed}$ mod N"
   ]
  },
  {
   "cell_type": "code",
   "execution_count": 13,
   "id": "4139aecd",
   "metadata": {},
   "outputs": [],
   "source": [
    "def enc(m):\n",
    "    key_file = open(os.path.join(sys.path[0], \"./public_key.txt\"), \"r\")\n",
    "    e, N = [int(i.strip()) for i in key_file.readlines()]\n",
    "    return exp_mod(m, e, N)"
   ]
  },
  {
   "cell_type": "code",
   "execution_count": 14,
   "id": "a48c3aaa",
   "metadata": {},
   "outputs": [],
   "source": [
    "def dec(c):\n",
    "    key_file = open(os.path.join(sys.path[0], \"./private_key.txt\"), \"r\")\n",
    "    d, N = [int(i.strip()) for i in key_file.readlines()]\n",
    "    return exp_mod(c, d, N)"
   ]
  }
 ],
 "metadata": {
  "kernelspec": {
   "display_name": "Python 3",
   "language": "python",
   "name": "python3"
  },
  "language_info": {
   "codemirror_mode": {
    "name": "ipython",
    "version": 3
   },
   "file_extension": ".py",
   "mimetype": "text/x-python",
   "name": "python",
   "nbconvert_exporter": "python",
   "pygments_lexer": "ipython3",
   "version": "3.9.4"
  }
 },
 "nbformat": 4,
 "nbformat_minor": 5
}
